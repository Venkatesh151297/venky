{
 "cells": [
  {
   "cell_type": "code",
   "execution_count": 11,
   "metadata": {},
   "outputs": [
    {
     "name": "stdout",
     "output_type": "stream",
     "text": [
      "Enter the no of words\n",
      "3\n",
      "Enter the list of words\n",
      "zf\n",
      "df\n",
      "fgh\n",
      "Required length\n",
      "2\n",
      "['fgh']\n"
     ]
    }
   ],
   "source": [
    "def filter_long_words(low,n):\n",
    "    final_words=[]\n",
    "    for i in low:\n",
    "        if len(i)>n:\n",
    "            final_words.append(i)\n",
    "    return final_words\n",
    "\n",
    "list1=[]\n",
    "print(\"Enter the no of words\")\n",
    "a=input()\n",
    "print(\"Enter the list of words\")\n",
    "for i in range(0,int(a)):\n",
    "    b=str(input())\n",
    "    list1.append(b)\n",
    "print(\"Required length\")\n",
    "b=int(input())\n",
    "c=filter_long_words(list1,b)\n",
    "print(c)"
   ]
  },
  {
   "cell_type": "code",
   "execution_count": 10,
   "metadata": {},
   "outputs": [
    {
     "name": "stdout",
     "output_type": "stream",
     "text": [
      "Enter the no of words\n",
      "4\n",
      "Enter the list of words\n",
      "asd\n",
      "asdf\n",
      "e\n",
      "rt\n",
      "[3, 4, 1, 2]\n"
     ]
    }
   ],
   "source": [
    "def find_length(low):\n",
    "    final_words=[]\n",
    "    for i in low:\n",
    "        b=len(i)\n",
    "        final_words.append(b)\n",
    "    return final_words\n",
    "\n",
    "list1=[]\n",
    "print(\"Enter the no of words\")\n",
    "a=input()\n",
    "print(\"Enter the list of words\")\n",
    "for i in range(0,int(a)):\n",
    "    b=str(input())\n",
    "    list1.append(b)\n",
    "c=find_length(list1)\n",
    "print(c)\n"
   ]
  },
  {
   "cell_type": "code",
   "execution_count": 18,
   "metadata": {},
   "outputs": [
    {
     "name": "stdout",
     "output_type": "stream",
     "text": [
      "A\n",
      "True\n"
     ]
    }
   ],
   "source": [
    "def check_vowel(a):\n",
    "    list1=['a','e','i','o','u']\n",
    "    if a.lower() in list1:\n",
    "        return True\n",
    "    else:\n",
    "        return False\n",
    "    \n",
    "c=check_vowel(str(input()))\n",
    "print(c)\n",
    "    "
   ]
  },
  {
   "cell_type": "code",
   "execution_count": 31,
   "metadata": {},
   "outputs": [
    {
     "name": "stdout",
     "output_type": "stream",
     "text": [
      "2\n",
      "3\n",
      "4\n",
      "5\n",
      "15.0\n"
     ]
    }
   ],
   "source": [
    "class Area:\n",
    "    def __init__(self):\n",
    "        self.one=int(input())\n",
    "        self.two=int(input())\n",
    "        self.three=int(input())\n",
    "        self.four=int(input())\n",
    "\n",
    "class Triangle(Area):\n",
    "    def __init__(self):\n",
    "        super().__init__()\n",
    "        \n",
    "    def area_tri(self):\n",
    "         area=(self.four*(self.four-self.one)*(self.four-self.two)*(self.four-self.three))/2\n",
    "         return area\n",
    "\n",
    "a=Triangle()\n",
    "b=a.area_tri()\n",
    "print(b)"
   ]
  }
 ],
 "metadata": {
  "kernelspec": {
   "display_name": "Python 3",
   "language": "python",
   "name": "python3"
  },
  "language_info": {
   "codemirror_mode": {
    "name": "ipython",
    "version": 3
   },
   "file_extension": ".py",
   "mimetype": "text/x-python",
   "name": "python",
   "nbconvert_exporter": "python",
   "pygments_lexer": "ipython3",
   "version": "3.7.1"
  }
 },
 "nbformat": 4,
 "nbformat_minor": 2
}
